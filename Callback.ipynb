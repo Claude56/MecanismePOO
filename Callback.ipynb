{
 "cells": [
  {
   "cell_type": "markdown",
   "metadata": {},
   "source": [
    "<h1 style=\"color: navy\"> Les fonctions de Callback en Python :</h1>"
   ]
  },
  {
   "cell_type": "markdown",
   "metadata": {},
   "source": [
    "**Rappel:** Voici un exemple d'appel classique de fonction: (à compléter et corriger)"
   ]
  },
  {
   "cell_type": "code",
   "execution_count": null,
   "metadata": {},
   "outputs": [],
   "source": [
    "# Calcul du volume d'une pyramide: V = 1/3 × b × h  avec b = surface à la base. Unités homogènes.\n",
    "def volumePyramide (b, h):  # b et h sont les arguments passés \n",
    "    return (1/3)*b*h        # à la fonction \"volumePyramide\"\n",
    "\n",
    "surfBase = input (Surface de la base de la pyramide ? )\n",
    "hauteur = input (Hauteur de la pyramide ? )\n",
    "print (f'La surface de la pyramide est: {}')"
   ]
  },
  {
   "cell_type": "markdown",
   "metadata": {},
   "source": [
    "Voici maintenant un appel de fonction *Callback*:"
   ]
  },
  {
   "cell_type": "code",
   "execution_count": 7,
   "metadata": {
    "collapsed": true
   },
   "outputs": [
    {
     "name": "stdout",
     "output_type": "stream",
     "text": [
      "Monsieur Nasson \n",
      "Me donne du bâton\n",
      " => Poil au ...menton !\n",
      "Qu'a Nasson?\n"
     ]
    }
   ],
   "source": [
    "def fonctionCallback(arg):\n",
    "    print(f\" => Poil au ...{arg} !\")\n",
    "\n",
    "def amiCaouette(callback):\n",
    "    print(\"Monsieur Nasson \\nMe donne du bâton\") # Extrait de la chanson: L'ami caouette\n",
    "    callback(\"menton\")\n",
    "    print(\"Qu'a Nasson?\")  # de  Serge Gainsbourg\n",
    "\n",
    "# Programme principal:\n",
    "amiCaouette(fonctionCallback)"
   ]
  },
  {
   "cell_type": "markdown",
   "metadata": {},
   "source": [
    "Utiliser le site Python Tutor pour voir l'organisation:  [Python Tutor](http://www.pythontutor.com/visualize.html#mode=edit) <br/>\n",
    "  => Commenter alors précisemment le programme ci dessus.<br/>\n",
    "  => Faire une copie d'écran de Python Tutor et l'insérer ici."
   ]
  },
  {
   "cell_type": "markdown",
   "metadata": {},
   "source": [
    "=> Identifier dans l'exemple ci-dessous ce qui a été modifié, par rapport au précédent. <br/>\n",
    "=> Son exécution doit générer une erreur. Pouvez-vous la corriger?"
   ]
  },
  {
   "cell_type": "code",
   "execution_count": 11,
   "metadata": {
    "collapsed": true
   },
   "outputs": [
    {
     "name": "stdout",
     "output_type": "stream",
     "text": [
      " => Poil au ...menton !\n",
      "Monsieur Nasson \n",
      "Me donne du bâton\n",
      " => Poil au ...menton !\n",
      "Qu'a Nasson?\n"
     ]
    }
   ],
   "source": [
    "def fonctionCallback(arg):\n",
    "    print(f\" => Poil au ...{arg} !\")\n",
    "\n",
    "def amiCaouette(callback):\n",
    "    print(\"L'ami Cao \\nM'a mis k.o.\")\n",
    "    callback(\"dos\")\n",
    "    print(\"Qu'a Cao?\")\n",
    "\n",
    "# Programme principal:\n",
    "amiCaouette(fonctionCallback ('menton'))"
   ]
  },
  {
   "cell_type": "markdown",
   "metadata": {},
   "source": [
    "Essayer en ajoutant à la ligne 3:     return fonctionCallback  <br/>\n",
    "=> Constatation. Expliquez"
   ]
  },
  {
   "cell_type": "markdown",
   "metadata": {},
   "source": [
    "=> Construire votre propre illustration d'une *Callback*."
   ]
  }
 ],
 "metadata": {
  "kernelspec": {
   "display_name": "Python 3",
   "language": "python",
   "name": "python3"
  },
  "language_info": {
   "codemirror_mode": {
    "name": "ipython",
    "version": 3
   },
   "file_extension": ".py",
   "mimetype": "text/x-python",
   "name": "python",
   "nbconvert_exporter": "python",
   "pygments_lexer": "ipython3",
   "version": "3.7.7"
  }
 },
 "nbformat": 4,
 "nbformat_minor": 4
}
