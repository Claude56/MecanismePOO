{
 "cells": [
  {
   "cell_type": "markdown",
   "metadata": {},
   "source": [
    "# Mécanismes de la POO (Programmation Orientée Objet):\n",
    "### Note: Commencez par vous préparer une copie de ce notebook et renommer cette copie: *MécanismesPOO_VotreNom.ipynb**\n",
    "* Aide pour l'utilisation du notebook: voir menu \"Aide\" de Jupyter (dans la barre d'outils ci-dessus). \n",
    "* Aide mémoire pour la syntaxe Markdown:\n",
    "    * [CheatSheet](markdown-cheat-sheet.md)\n",
    "    * [GitHub](https://guides.github.com/features/mastering-markdown/)   ou la version: [pdf](markdown-cheatsheet-online.pdf)\n",
    "    * [Markdown1](https://commonmark.org/help/)\n",
    "    * [Markdown2](https://support.zendesk.com/hc/fr/articles/203691016-Formatage-de-texte-avec-Markdown#topic_xqx_mvc_43__row_k3l_yln_1n) <br/>  \n",
    "\n",
    "\n",
    "* Un site utilisé dans cette activité,  pour visualiser les méchanismes du langage Python: [Python Tutor](http://www.pythontutor.com/visualize.html#mode=edit)"
   ]
  },
  {
   "cell_type": "markdown",
   "metadata": {},
   "source": [
    "La programmation orientée objet (POO) est un concept de programmation très puissant qui permet de structurer ses programmes d'une manière nouvelle. En POO, on définit un « objet » qui peut contenir des « attributs » ainsi que des « méthodes » qui agissent sur « objet » lui-même. Pour construire cet objet, on utilise la notion de « classe ».\n",
    "Rappel: En Python tout est objet. \n",
    "Donc, une variable de type **int** est en fait un objet de type int, donc construit à partir de la **classe int**. Pareil pour les types **float** et les **string**. Mais également pour les  **list**,les **tuple**, les **dict**, etc...\n",
    "\n",
    "Une classe définit des objets qui sont des instances (des représentants) de cette classe. \n",
    "Les objets peuvent posséder des attributs (variables associées aux objets) et des méthodes (qui sont des fonctions associées aux objets et qui peuvent agir sur ces derniers ou encore les utiliser).\n",
    "\n",
    "\n",
    "La POO permet de rédiger du code plus compact et mieux ré-utilisable. L'utilisation de classes évite l'utilisation de variables globales en créant ce qu'on appelle un espace de noms propre à chaque objet permettant d'y encapsuler des attributs et des méthodes."
   ]
  },
  {
   "cell_type": "markdown",
   "metadata": {},
   "source": [
    "## 1/ Création d'une classe minimale:  "
   ]
  },
  {
   "cell_type": "markdown",
   "metadata": {},
   "source": [
    "Exemple de déclaration d'une classe:  **class Fruit:**    # Remarque: Toujours écrire le nom de la classe avec une majuscule <br/>\n",
    "\n",
    "11/ Dans un l'interpréteur python (*) de votre choix (Idle; Pyzo; Thonny; Spyder; etc...), saisissez les commandes ci-dessous:\n",
    "\n",
    "![image_1](./1_Images/Capture_1.png)\n",
    "(*): La solution qui consiste à utiliser plusieurs cellules de code du notebook, n'est pas conseillée ici.\n",
    "\n",
    "Vous devriez obtenir les retours indiqués ci-dessus et donc une succession de lignes, identiques. <br/>\n",
    "Copier/coller vos lignes dans la cellule \"Markdown\" ci dessous et commenter les commandes ainsi que le retour de ces commandes.  <br/>\n",
    "Bien faire apparaitre dans vos commentaires, les notions: **d'objet; de type et d'instance.**\n",
    "\n"
   ]
  },
  {
   "cell_type": "markdown",
   "metadata": {},
   "source": [
    "=> *Coller **ici** vos lignes issues de l'interprèteur! Et n'oublier pas de les commenter*"
   ]
  },
  {
   "cell_type": "markdown",
   "metadata": {},
   "source": [
    "12/ Toujours dans l'interpréteur, testez maintenant la commande: **isinstance(orange, Fruit)**   <br/>\n",
    "=> copier/coller ici la commande et son résultat (capture d'écran), donner sa signification et commenter son retour."
   ]
  },
  {
   "cell_type": "markdown",
   "metadata": {},
   "source": [
    "13/ Utiliser [Python Tutor](http://www.pythontutor.com/visualize.html#mode=edit) et reprendre la création de la classe **Fruit** et de l'instance **orange**. <br/> \n",
    "Puis utiliser le bouton \"Vizualise execution\" pour observer l'organisation de l'espace mémoire => Insérer ici la représentation graphique obtenue.  <br/> \n",
    "Nb: syntaxe pour insérer une image: ```![nom](chemin\\NomImage.png)```\n"
   ]
  },
  {
   "cell_type": "markdown",
   "metadata": {},
   "source": [
    "14/ Tester maintenant la commande suivante (dans l'interpréteur):\n",
    "\n",
    "![image_2](./1_Images/Capture_2.png)\n",
    "\n",
    "=> Détailler et commenter ici le retour obtenu."
   ]
  },
  {
   "cell_type": "markdown",
   "metadata": {},
   "source": [
    "## 2/ Ajoutons un attribut d'instance:"
   ]
  },
  {
   "cell_type": "markdown",
   "metadata": {},
   "source": [
    "21/ => Dans l'interpréteur python, ou bien maintenant dans des cellules de code de ce notebook (mais attention dans ce cas de déclarer au préalable, la classe et son instance), testez successivement les commandes suivantes:\n",
    "![Image_3](./1_Images/Capture_3.png)\n",
    "\n",
    "22/ => Selon le cas, (si interpréteur: copier/coller ici ces commandes ainsi que leur retour), et dans tous les cas, **ajouter vos commentaires.**\n"
   ]
  },
  {
   "cell_type": "markdown",
   "metadata": {},
   "source": [
    "L'attribut nommé ```.__dict__``` peu s'avérer utile. Il s'agit d'un dictionnaire qui liste les attributs créés dynamiquement dans l'instance en cours. <br/>\n",
    "23/=> Tester les lignes suivantes et observer leur retour et les commenter:\n",
    "\n",
    "```python\n",
    "banane = Fruit ()\n",
    "banane.__dict__\n",
    "banane.couleur = \"jaune\"\n",
    "banane.__dict__\n",
    "``` \n",
    "24/=> Si on créer une nouvelle instance (citron par exemple), celle-ci possèdera t-elle l'attribut couleur ?"
   ]
  },
  {
   "cell_type": "code",
   "execution_count": null,
   "metadata": {},
   "outputs": [],
   "source": [
    "# Vérifier votre réponse ici:"
   ]
  },
  {
   "cell_type": "markdown",
   "metadata": {},
   "source": [
    "25/=> Tester et vérifier l'utilisation de l'instruction **del** pour effacer: une instance; une classe."
   ]
  },
  {
   "cell_type": "code",
   "execution_count": null,
   "metadata": {},
   "outputs": [],
   "source": [
    "#### L'instruction del pour effacer une instance; une classe: ####"
   ]
  },
  {
   "cell_type": "markdown",
   "metadata": {},
   "source": [
    "### Conclusion:\n",
    "   *Une variable ou attribut d'instance est une variable accrochée à une instance et qui est spécifique à cette instance. Cet attribut n'existe donc pas forcément pour toutes les instances d'une classe donnée, et d'une instance à l'autre il ne prendra pas forcément la même valeur. On peut retrouver tous les attributs d'instance d'une instance donnée avec une syntaxe instance: ```.__dict__```.*"
   ]
  },
  {
   "cell_type": "markdown",
   "metadata": {},
   "source": [
    "## 3/ Et maintenant un attribut de classe:\n"
   ]
  },
  {
   "cell_type": "markdown",
   "metadata": {},
   "source": [
    "**Pour ajouter un attribut à une classe, il suffit de déclarer un attribut comme on affecte une variable à une fonction.** <br/>\n",
    "31/ => Tester ci dessous la déclaration d'un attribut \"sensation\" (au palais) à la classe Fruit. Cet attribut pourra prendre comme valeur: \"douceur\". Comparer le comportement d'un attribut de classe avec celui d'une instance (comme \"couleur\" ci dessus)."
   ]
  },
  {
   "cell_type": "code",
   "execution_count": null,
   "metadata": {},
   "outputs": [],
   "source": [
    "# Exemple de déclaration d'un attribut \"sensation\" à la classe Fruit"
   ]
  },
  {
   "cell_type": "markdown",
   "metadata": {},
   "source": [
    "32/ => Utiliser PythonTutor pour créer une illustration de l'espace des noms, de la classe et son attribut et d'une instance avec un attribut d'instance.  <br/>\n",
    "33/ => Commentaire sur le comportement d'un attribut classe: accès depuis la classe, depuis une instance; comment le  modifier..."
   ]
  },
  {
   "cell_type": "markdown",
   "metadata": {},
   "source": [
    "## 4/ Les méthodes:\n",
    "Une méthode est une fonction déclarée dans une classe: <br/>\n",
    "![Image4](./1_Images/Capture_4.png)\n",
    "41/ => Tester l'ajout d'une **méthode** à la classe Fruit, et son exécution, dans une cellule de code de ce notebook.<br/>"
   ]
  },
  {
   "cell_type": "code",
   "execution_count": null,
   "metadata": {},
   "outputs": [],
   "source": [
    "# Exemple d'ajout d'une méthode à la classe Fruit, et son exécution:"
   ]
  },
  {
   "cell_type": "markdown",
   "metadata": {},
   "source": [
    "42/ => Illustrer ici la création d'une méthode avec PythonTutor:"
   ]
  },
  {
   "cell_type": "markdown",
   "metadata": {},
   "source": [
    "## 5/ Le constructeur:\n",
    "Lors de l'instanciation d'un objet à partir d'une classe, il peut être nécessaire de lancer des instructions pour initialiser certaines variables. Pour cela, on ajoute une méthode spéciale nommée ```.__init__()``` : cette méthode s'appelle le « constructeur » de la classe. Il s'agit d'une méthode spéciale dont le nom est entouré de doubles underscores : elle sert au fonctionnement interne de la classe, et elle n'a pas à être lancée comme une fonction classique par l'utilisateur de la classe.<br/>\n",
    "Ce constructeur est exécuté à chaque instanciation de la classe, et ne renvoie pas de valeur, il ne possède donc pas de return."
   ]
  },
  {
   "cell_type": "markdown",
   "metadata": {},
   "source": [
    "Exemple de constructeur: \n",
    "![Image5](./1_Images/Capture_5.png)\n",
    "51/ => A saisir dans une cellule de code. <br/>\n",
    "52/ => Et illustrer avec PythonTutor."
   ]
  },
  {
   "cell_type": "code",
   "execution_count": null,
   "metadata": {},
   "outputs": [],
   "source": [
    "# Exemple de déclaration d'un constructeur:"
   ]
  },
  {
   "cell_type": "markdown",
   "metadata": {},
   "source": [
    "Illustrer ici, avec PythonTutor (bien visualiser pas à pas, les étapes de création de l'espace de noms):<br/>\n",
    "Ajouter vos commentaires:"
   ]
  },
  {
   "cell_type": "markdown",
   "metadata": {},
   "source": [
    "## 6/ Passage de paramètres (arguments), lors de l'instanciation:\n",
    "Comme pour les fonctions, il est possible de passer des arguments (positionnels ou par mot-clés). <br/>\n",
    "Tester l'exemple suivant:\n",
    "![Image6](./1_Images/Capture_6.png)\n",
    "61/ => Dans une cellule de code, puis vérifier les arguments (instance.```_dict```).<br/>\n",
    "62/ => Illustrer l'espace des noms avec **Python Tutor**"
   ]
  },
  {
   "cell_type": "code",
   "execution_count": null,
   "metadata": {},
   "outputs": [],
   "source": [
    "#Exemple de passage de paramètres"
   ]
  },
  {
   "cell_type": "code",
   "execution_count": null,
   "metadata": {},
   "outputs": [],
   "source": [
    "Illustration du passage de paramètres avec PythonTutor:"
   ]
  },
  {
   "cell_type": "markdown",
   "metadata": {},
   "source": [
    "63/ => Identifier le(s) paramètre(s) positionnel(s) et par mot-clé(s)."
   ]
  },
  {
   "cell_type": "markdown",
   "metadata": {},
   "source": [
    "## 7/ Le paramètre *self*:\n",
    "Voici quelques exemples à tester (cellule de code et sur le site de Python Tutor) pour mieux appéhender le rôle du paramètre self:<br/>\n",
    "71/ => Exemple 1:\n",
    "![Image7](./1_Images/Capture_7.png)"
   ]
  },
  {
   "cell_type": "code",
   "execution_count": null,
   "metadata": {},
   "outputs": [],
   "source": [
    "# Exemple 1:"
   ]
  },
  {
   "cell_type": "markdown",
   "metadata": {},
   "source": [
    "Illustration avec Python tutor: "
   ]
  },
  {
   "cell_type": "markdown",
   "metadata": {},
   "source": [
    "Vos commentaires:"
   ]
  },
  {
   "cell_type": "markdown",
   "metadata": {},
   "source": [
    "72/ =>  Tester les deux commandes suivantes: \n",
    "* cerise.message()\n",
    "* Fruit.message(cerise) <br/>\n",
    "Sont-elles équivalentes ? Laquelle faut-il privilégier ?"
   ]
  },
  {
   "cell_type": "markdown",
   "metadata": {},
   "source": [
    "73/ => Exemple 2:\n",
    "![Image8](./1_Images/Capture_8.png)\n",
    "Compléter la ligne avec le code nécessaire, puis tester et commenter."
   ]
  },
  {
   "cell_type": "markdown",
   "metadata": {},
   "source": [
    "74/ => Exemple 3: faire une variante de l'exemple 2, permettant de compléter l'affichage de cette façon:<br/>\n",
    "\"Je suis {couleur} comme ma cousine la tomate\" <br/>\n",
    "Commentaire(s) ?"
   ]
  },
  {
   "cell_type": "markdown",
   "metadata": {},
   "source": [
    "## 8/ Comportement des attributs d'instance et de classe:\n",
    "81/ => Tester l'exemple suivant:\n",
    "![image9](./1_Images/Capture_9.png)"
   ]
  },
  {
   "cell_type": "code",
   "execution_count": null,
   "metadata": {},
   "outputs": [],
   "source": [
    "# A tester ici, dans une cellule de code"
   ]
  },
  {
   "cell_type": "markdown",
   "metadata": {},
   "source": [
    "=> Ajouter ici une illustration de l'exemple précédent avec Python Tutor. Ajouter vos commentaires."
   ]
  },
  {
   "cell_type": "markdown",
   "metadata": {},
   "source": [
    "82/ => Exercice:\n",
    "Reprendre l'exemple précédent et y intégrer une méthode \"message\" qui affiche les attributs d'instance et de classe.<br/>\n",
    "83/ => Conclusion: quant à l'accès aux attributs ( de classe et d'instance) ?"
   ]
  },
  {
   "cell_type": "markdown",
   "metadata": {},
   "source": [
    "84/ => Exercice:\n",
    "Pour faire une salade de fruits, on souhaite connaitre le nombre d'instances de la classe Fruit, afin d'ajouter 50% de sucre."
   ]
  },
  {
   "cell_type": "markdown",
   "metadata": {},
   "source": [
    "**Remarque: <br/>**\n",
    "Les attributs de classe ne peuvent pas être modifiés ni à l'extérieur d'une classe via une syntaxe instance.attribut_de_classe = nouvelle_valeur, ni à l'intérieur d'une classe via une syntaxe self.attribut_de_classe = nouvelle_valeur. Puisqu'ils sont destinés à être identiques pour toutes les instances, cela est logique de ne pas pouvoir les modifier via une instance. Les attributs de classe Python ressemblent en quelque sorte aux attributs statiques du C++.\n",
    "\n",
    "85/ => Exemple:\n",
    "![Image10](./1_Images/Capture_10.png)"
   ]
  },
  {
   "cell_type": "markdown",
   "metadata": {},
   "source": [
    "=> Ajouter ici vos commentaires/observations et conclure."
   ]
  },
  {
   "cell_type": "markdown",
   "metadata": {},
   "source": [
    "**A retenir:<br/>**\n",
    "Même si on peut modifier un attribut de classe, il est déconseillé de le faire. Les attributs de classe sont utiles pour par exemple de définir des constantes. Cela n'a pas donc pas de sens de vouloir les modifier ! Il est également déconseillé de créer des attributs de classe avec des objets modifiables comme des listes et des dictionnaires.\n",
    "\n",
    "Pour avoir des attributs modifiables dans une classe, il est préférable d'utiliser des attributs d'instance dans le .__init__()."
   ]
  },
  {
   "cell_type": "markdown",
   "metadata": {},
   "source": [
    "**Définitions: Espace de noms et la règle LGI:**<br/>\n",
    "Voici la [définition](https://docs.python.org/fr/3/tutorial/classes.html#python-scopes-and-namespaces) d'un espace de noms: \n",
    "> « a namespace is a mapping from names to objects ».\n",
    "\n",
    "Un espace de noms, est une correspondance entre des noms et des objets. Un espace de noms peut être vu comme une capsule dans laquelle on trouve des noms d'objets. Par exemple, le programme principal ou une fonction représentent chacun un espace de noms, un module aussi, et bien sûr une classe ou l'instance d'une classe également.<br/>\n",
    "**Règle LGI:** <br/>\n",
    "La règle LGI peut être résumée ainsi : **Local > Global > Interne**.<br/>\n",
    "Lorsque Python rencontre un objet, il utilise cette règle de priorité pour accéder à la valeur de celui-ci. Si on est dans une fonction (ou une méthode), Python va d'abord chercher l'espace de noms local à cette fonction. S'il ne trouve pas de nom il va ensuite chercher l'espace de noms du programme principal (ou celui du module), donc des variables globales s'y trouvant. S'il ne trouve pas de nom, il va chercher dans les commandes internes à Python (on parle des Built-in Functions et des Built-in Constants). Si aucun objet n'est trouvé, Python renvoie une erreur.<br/>\n",
    "Pour les modules, le principe de gestion/résolution des noms, est le même ==> Voir l'exemple ci dessous:"
   ]
  },
  {
   "cell_type": "code",
   "execution_count": null,
   "metadata": {},
   "outputs": [],
   "source": [
    "import sys  # Ces deux lignes permettent d'ajouter au \"path\", le chemin  \n",
    "sys.path.append(\"./2_Codes\")  # pour accéder à \"module.py\"\n",
    "import module as md # Importation du module\n",
    "\n",
    "racine2 = 0.707\n",
    "pi = 3.14\n",
    "\n",
    "# Pour le pgr principal, les objets \"racine2\" et \"pi\" sont:\n",
    "print(\"Pour le prog principal: La racine de 2 est:\", racine2)\n",
    "print(\"Pour le prog principal: La valeur de PI est:\", pi)\n",
    "\n",
    "# Pour le module, les objets \"racine2\" et \"pi\" sont:\n",
    "md.fct1()\n",
    "md.fct2()\n",
    "\n",
    "# Et de retour dans le pgr principal:\n",
    "print(\"\\nDe retour dans le prog principal: La racine de 2 est:\", racine2)\n",
    "print(\"De retour dans le prog principal: La valeur de PI est:\", pi)\n",
    "\n",
    "del racine2\n",
    "\n",
    "print(\"\\nPour le prog principal: La racine de 2 est:\", racine2)\n"
   ]
  },
  {
   "cell_type": "raw",
   "metadata": {},
   "source": [
    "=> Ajouter vos commentaires ici, ou dans le code."
   ]
  },
  {
   "cell_type": "markdown",
   "metadata": {},
   "source": [
    "Et voici un autre exemple, avec une classe cette fois: (à tester avec Python Tutor) \n",
    "![Image11](./1_Images/Capture_11.png)"
   ]
  },
  {
   "cell_type": "markdown",
   "metadata": {},
   "source": [
    "=> Vos commentaires ?"
   ]
  },
  {
   "cell_type": "markdown",
   "metadata": {},
   "source": [
    "Un dernier exemple, avec les méthodes:\n",
    "![Image12](./1_Images/Capture_12.png)"
   ]
  },
  {
   "cell_type": "markdown",
   "metadata": {},
   "source": [
    "=> Vos commentaires ?"
   ]
  },
  {
   "cell_type": "markdown",
   "metadata": {},
   "source": [
    "## 9/ Polymorphisme:"
   ]
  },
  {
   "cell_type": "markdown",
   "metadata": {},
   "source": [
    " => Exemple 1: **Le polymorphisme**  \n",
    " Tester les commandes suivantes:\n",
    "\n",
    "```python\n",
    "sorted(\"Turcaret et Lesage\")\n",
    "sorted([203,-3.14, -1, 405, 807, 305])\n",
    "```"
   ]
  },
  {
   "cell_type": "markdown",
   "metadata": {},
   "source": [
    "**Définition:**  \n",
    "*En programmation, le polymorphisme est la capacité d'une fonction (ou méthode) à se comporter différemment en fonction de l'objet qui lui est passé. Une fonction donnée peut donc avoir plusieurs définitions.*\n"
   ]
  },
  {
   "cell_type": "markdown",
   "metadata": {},
   "source": [
    " => Exemple 2: **La redéfinition des opérateurs**   \n",
    "```python\n",
    "53+3\n",
    "'Tex '+'Avery'\n",
    "```"
   ]
  },
  {
   "cell_type": "markdown",
   "metadata": {},
   "source": [
    "**Définition**  \n",
    "*La redéfinition des opérateurs est la capacité à redéfinir le comportement d'un opérateur en fonction des opérandes utilisées (rappel: dans l'expression 53 + 3, + est l'opérateur d'addition tandis que 53 et 3 sont les opérandes)*"
   ]
  },
  {
   "cell_type": "markdown",
   "metadata": {},
   "source": [
    "**Python** permet le **polymorphisme** et la **redéfinition des opérateurs** grâce à l'utilisation  des méthode dites **magiques**.<br/>  \n",
    " => Exemple 3: La méthode magique ```__str__```:  Tester le code suivant dans Python Tutor, puis dans une cellule de code\n",
    "![Image13](./1_Images/Capture_13.png)"
   ]
  },
  {
   "cell_type": "markdown",
   "metadata": {},
   "source": [
    "=> A partir de vos observations, ajouter vos commentaires au code précédent. "
   ]
  },
  {
   "cell_type": "markdown",
   "metadata": {},
   "source": [
    "**Définition:**  \n",
    "*Une méthode magique (magic method) est une méthode spéciale dont le nom est entouré de double underscores. Par exemple, la méthode ```__init__()``` est une méthode magique. Ces méthodes sont, la plupart du temps, destinées au fonctionnement interne de la classe. Beaucoup d'entre elles sont destinées à changer le comportement de fonctions ou opérateurs internes à Python, avec les instances d'une classe que l'on a créée.*"
   ]
  },
  {
   "cell_type": "code",
   "execution_count": null,
   "metadata": {},
   "outputs": [],
   "source": [
    "# Rappel: La commande dir() retourne les méthodes (et attributs) associées à une classe ou une instance:\n",
    "dir (Fruit) \n",
    "dir (salade) "
   ]
  },
  {
   "cell_type": "markdown",
   "metadata": {},
   "source": [
    " => Exemple 4: La méthode magique ```__call__```:  Tester le code suivant dans Python Tutor, puis dans une cellule de code:  \n",
    "![Image14](./1_Images/Capture_14.png)"
   ]
  },
  {
   "cell_type": "markdown",
   "metadata": {},
   "source": [
    "=> A partir de vos observations, ajouter vos commentaires au code précédent. "
   ]
  },
  {
   "cell_type": "markdown",
   "metadata": {},
   "source": [
    "## 10/ Héritage:"
   ]
  },
  {
   "cell_type": "markdown",
   "metadata": {},
   "source": [
    "**Définition:**  \n",
    "*En programmation, l'héritage est la capacité d'une classe d'hériter des propriétés d'une classe pré-existante. On parle de classe mère et de classe fille. En Python, l'héritage peut être multiple lorsqu'une classe fille hérite de plusieurs classes mères.*"
   ]
  },
  {
   "cell_type": "markdown",
   "metadata": {},
   "source": [
    " => Exemple 1: A saisir, tester et commenter à partir de vos observations\n",
    "![Image15](./1_Images/Capture_15.png)"
   ]
  },
  {
   "cell_type": "markdown",
   "metadata": {},
   "source": [
    " => Observer et commenter le retour des deux commandes suivantes:\n",
    "```python\n",
    "isinstance(fille, Fille)\n",
    "isinstance(fille, Mere)\n",
    "```\n"
   ]
  },
  {
   "cell_type": "markdown",
   "metadata": {},
   "source": [
    " => Exemple 2:  A saisir, tester et commenter à partir de vos observations (concernant la *résolution des noms* pour les méthodes de ces deux classes).\n",
    "![Image16](./1_Images/Capture_16.png)"
   ]
  },
  {
   "cell_type": "markdown",
   "metadata": {},
   "source": [
    " **Remarque 1:**  \n",
    "Il est en général possible d'avoir des informations sur *l'ordre de résolution* des méthodes d'une classe en invoquant la commande help() sur cette-dernière ou une de ses instances:  \n",
    "Par exemple:\n",
    "```python\n",
    "import tkinter as tk\n",
    "racine = tk.Tk()\n",
    "\n",
    "help (racine)\n",
    "```\n",
    "=> Observer les premières lignes du retour. Commentaire(s)?"
   ]
  },
  {
   "cell_type": "markdown",
   "metadata": {},
   "source": [
    " **Remarque 2:**  \n",
    "En Python, il existe une classe interne nommée *object* qui est en quelque sorte la classe ancêtre de tous les objets. Toutes les classes héritent de *object*.  \n",
    "Exemple:\n",
    "```python\n",
    "class Poisson:\n",
    "    pass\n",
    "\n",
    "bar = Poisson ()\n",
    "\n",
    "help(bar)\n",
    "```\n",
    "=> Observer les premières lignes du retour. De quelle classe hérite Poisson ?\n",
    "=> Obtenir des informations sur cette classe. Saisir pour celà les commandes suivantes dans l'interprèteur:\n",
    "```python\n",
    "import builtins\n",
    "dir(builtins)\n",
    "```\n",
    " \n",
    "=> Saisir maintenant les lignes suivantes, dans l'interprèteur et observer le retour :  \n",
    "```python\n",
    "class Poisson:\n",
    "    pass\n",
    "\n",
    "bar = Poisson ()\n",
    "dir(bar)\n",
    "obj = object()\n",
    "dir(obj)\n",
    "```\n",
    "=> Constatation(s) ?"
   ]
  },
  {
   "cell_type": "markdown",
   "metadata": {},
   "source": [
    "### Exemple 3: Voici un exemple d'héritage, à compléter\n",
    "On reprend notre classe Fruit, mais cette fois elle rassemble les principales propriétés des fruits. Chaque variété de fruit a sa classe, qui hérite de Fruit:  \n",
    "=> Compléter le n° d'étape des lignes: 6; 15; 23; 25; 29, en remplaçant le n. Attention de bien jouer le jeu, et de faire ce travail avant de lancer l'execution.  \n",
    "=> Remplacer les points d'interrogation et compléter correctement."
   ]
  },
  {
   "cell_type": "code",
   "execution_count": null,
   "metadata": {},
   "outputs": [],
   "source": [
    "class Fruit:  \n",
    "    # la classe mère: Fruit\n",
    "    \n",
    "    def __init__(self, ?, ?, ?, ?):  # A compléter\n",
    "        # Le constructeur:\n",
    "        print(\"Etape n => Maintenant commence l'execution du constructeur de la classe Fruit...\")\n",
    "        self.couleur = couleur\n",
    "        self.taille = taille\n",
    "        ? = saveur  # A compléter\n",
    "        ? = conseil  # A compléter\n",
    "        print(\" et les attributs: self.couleur, self.taille, self.saveur et self.conseil sont créés !\\n\")\n",
    "\n",
    "    def afficheConseil(self, ???): # A compléter\n",
    "        # Une méthode pour afficher le conseil lié au fruit\n",
    "        print(\"\\t Etape n => Et la méthode .affiche_conseil() de la classe Fruit, s'execute maintenant:\\n\")\n",
    "        return f\"Instance {typeFruit}:\\n\\tcouleur: {self.couleur}, taille: {self.taille}, \\\n",
    "saveur: {self.saveur},\\n\\tconseil: {?}\\n\" # A compléter\n",
    "                \n",
    "class Citron(Fruit): \n",
    "    # Une classe fille + son constructeur\n",
    "    \n",
    "    def __init__(self, couleur=None, taille=None, saveur=None, conseil=\"Néant\"):\n",
    "        print(\"Etape n => L'execution du constructeur de Citron commence ici, et il appelle le constructeur :\\n\\t de la classe mère Fruit !\")\n",
    "        Fruit.__init__(self, couleur, taille, saveur, conseil)\n",
    "        print(f\"Etape n => Fin du constructeur de Citron: les attributs sont : \\nself.couleur: {self.couleur},\\\n",
    "\\nself.taille : {self.taille}, \\nself.saveur : {self.saveur},\\nself.conseil : {self.conseil}\")\n",
    "\n",
    "    def __str__(self):\n",
    "        print(\"\\n\\t Etape n => Début de la méthode .__str__() de la classe Citron :\")\n",
    "        print(\"\\t\\t==>  Appel de la méthode .affiche_conseil() héritée de la classe Fruit :\")\n",
    "        return self.afficheConseil(\"Citron\") \n",
    "\n",
    "\n",
    "# on crée une instance de Citron: citron1 => vert; petit; acide; Parfume agréablement les cocktails\n",
    "citron1 = ? # A compléter\n",
    "print(citron1)"
   ]
  },
  {
   "cell_type": "markdown",
   "metadata": {},
   "source": [
    "=> Noter ici vos observations et constatations."
   ]
  },
  {
   "cell_type": "markdown",
   "metadata": {},
   "source": [
    "=> Reprendre ici le code précédent et limiter les affichages au strict nécessaire. Puis ajouter les classes:  \n",
    "* Banane: Bonne en smoothie\n",
    "* Pomme: rouge; Bonne en tarte\n",
    "* Orange: Bonne en jus"
   ]
  },
  {
   "cell_type": "markdown",
   "metadata": {},
   "source": [
    "### 11/ Accès et modification des attributs:  \n",
    "Afin de garantir le contrôle et la bonne utilisation des attributs, certains langages tels que Java et C++ proposent des méthodes spécifiques: getters et setters ou encore accesseurs et mutateurs.  \n",
    "Voici un exemple en Python:"
   ]
  },
  {
   "cell_type": "code",
   "execution_count": null,
   "metadata": {},
   "outputs": [],
   "source": [
    "# Exemple de mutateur et accesseur en python:\n",
    "class Fruit:\n",
    "    def __init__(self, saveur=\"sucrée\", masse=0):\n",
    "        self.saveur = saveur\n",
    "        self.masse = masse # avec la masse en g\n",
    "\n",
    "    def get_saveur(self):\n",
    "        return self.saveur\n",
    "\n",
    "    def set_saveur(self, value):\n",
    "        self.saveur = value\n",
    "\n",
    "    def get_masse(self):\n",
    "        return self.masse\n",
    "\n",
    "    def set_masse(self, value):\n",
    "        if value <= 0:\n",
    "            raise ValueError(\"La masse doit être supérieur à zéro\")\n",
    "        self.masse = value\n",
    " \n",
    "citron = Fruit(masse=50)\n",
    "print(f\"La saveur de l'instance citron est : {citron.get_saveur()} et la masse de: {citron.get_masse()} g\")\n",
    "# on change les attributs de citron avec le setter\n",
    "citron.set_saveur(\"acide\")\n",
    "citron.set_masse(100)\n",
    "print(f\"En fait: la saveur est : {citron.get_saveur()} et la masse de: {citron.get_masse()} g\")\n",
    "print('\\nEt le test du contrôle de la masse:')\n",
    "citron.set_masse(-50)"
   ]
  },
  {
   "cell_type": "markdown",
   "metadata": {},
   "source": [
    "En fait, avec le langage Python, l'utilisation des mutateurs et accesseurs n'est pas vraiment incontournable. Si par exemple, on écrit:"
   ]
  },
  {
   "cell_type": "code",
   "execution_count": null,
   "metadata": {},
   "outputs": [],
   "source": [
    "orange = Fruit(masse=200)\n",
    "print(f\"La saveur de l'instance orange est : {orange.get_saveur()} et la masse de: {orange.get_masse()} g\")\n",
    "orange.saveur = 'acide'\n",
    "orange.masse = 0\n",
    "print(f\"Maintenant la saveur de l'instance orange est : {orange.get_saveur()} et sa masse de: {orange.get_masse()} g\")"
   ]
  },
  {
   "cell_type": "markdown",
   "metadata": {},
   "source": [
    "=> Vos observations et constatations:  \n",
    "*En fait, en Python, la lisibilité est la priorité: « Readability counts » et cette stratégie des accesseurs et mutateurs qui apporte une surcharge d'écriture, n'est pas retenue.*  \n",
    "En Python, on préfère considérer que chacun est responsable de ce qu'il fait. La lisibilité est privilégiée, et partant de là, les accesseurs et mutateurs ne sont pas indispensables.  \n",
    "<br/>\n",
    "Malgré tout, dans certains cas il peut être nécessaire de protéger et contrôler des attributs particuliers. Il existe pour celà une classe nommée *property* dont le but est de gérer ces cas spécifiques. L'appel de la fonction *property(arguments)*, dont les arguments sont les fonctions: getter, setter, deleter permet de retrouver le mécanisme: accesseur, mutateur ainsi que destructeur, d'un attribut.  "
   ]
  },
  {
   "cell_type": "code",
   "execution_count": null,
   "metadata": {},
   "outputs": [],
   "source": [
    "''' Illustration de l'utilisation de la classe 'property' pour protéger/contrôler un attribut:\n",
    "    (1) Analyser le code puis lancer l'execution. Observer le résultat.\n",
    "    (2) Corriger le code, puis executez-le! Observations et contatations.\n",
    "'''\n",
    "class Fruit:\n",
    "    def __init__(self, masse=0): # Constructeur\n",
    "        print(\"Etape 2: Initialisation de l'attribut 'masse' par le constructeur:\")\n",
    "        self.masse = masse # Initialisation de l'attribut self.masse\n",
    "\n",
    "    def get_masse(self): # Accesseur\n",
    "        print(\"=> Appel de l'accesseur: get_masse() => retourne self.masse\")\n",
    "        return self._masse # Retourne l'attribut self._masse\n",
    "\n",
    "    def set_masse(self, valeur): # Mutateur\n",
    "        print(f\"=> Appel du mutateur: set_masse() => self.masse = {valeur} g\")\n",
    "        if valeur <= 0: # Contrôle de la valeur proposée\n",
    "            raise ValueError(\"La masse doit être supérieur à zéro\")\n",
    "        self._masse = valeur # Modifie l'attribut self._masse\n",
    "        \n",
    "    # Appel de la fonction 'property' avec en argument des fonctions dites de 'callback',\n",
    "    # ici: le getter => get_masse() et le setter => set_masse()\n",
    "    masse = property(fget=get_masse, fset=set_masse) \n",
    "    \n",
    "print(\"Etape 1: Programme principal => instanciation d'une pomme.\")\n",
    "pomme = Fruit(masse=200)\n",
    "print(\"\\nEtape 3: Le programme principal reprend la main:\")\n",
    "print(f\"La masse de l'instance pomme est {pomme.masse} g\")\n",
    "print(\"\\nEtape 4: Des vers mangent 25g de la pomme\")\n",
    "pomme.masse = -25\n",
    "print(f\"La masse de la pomme est maintenant de {pomme.masse} g\")\n",
    "print(pomme.__dict__) # Affiche l'attribut de l'instance 'pomme'"
   ]
  },
  {
   "cell_type": "markdown",
   "metadata": {},
   "source": [
    "=> Identifier le nom de l'attribut associé à la masse, dans l'instance 'pomme'. Comparer avec le nom de l'attribut 'masse' utilisé le constructeur de la classe. Vous pouvez aussi illustrer ceci avec Python Tutor.  \n",
    "=> En déduire le rôle de la fonction 'property()'\n",
    "=> Justifier en reprenant le code ci-dessus et en y ajoutant un attribut 'couleur' qui ne fait pas appel à la classe 'property' et qui n'est donc pas interfacé par un accesseur et un mutateur."
   ]
  }
 ],
 "metadata": {
  "kernelspec": {
   "display_name": "Python 3",
   "language": "python",
   "name": "python3"
  },
  "language_info": {
   "codemirror_mode": {
    "name": "ipython",
    "version": 3
   },
   "file_extension": ".py",
   "mimetype": "text/x-python",
   "name": "python",
   "nbconvert_exporter": "python",
   "pygments_lexer": "ipython3",
   "version": "3.6.9"
  }
 },
 "nbformat": 4,
 "nbformat_minor": 4
}
