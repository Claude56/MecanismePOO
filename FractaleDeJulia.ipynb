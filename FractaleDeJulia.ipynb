{
 "cells": [
  {
   "cell_type": "markdown",
   "metadata": {},
   "source": [
    "<h1 style=\"color: indigo\">&emsp; Tracer des fractales de Julia :  &emsp;</h1>"
   ]
  },
  {
   "cell_type": "markdown",
   "metadata": {},
   "source": [
    "Cette fois il s'agit de tracer des fractales, issues **des mathématiques et non de la nature** comme pour les Lsystem.  \n",
    "Gaston Maurice JULIA est un mathématicien du début du XX eme siècle. Il a travaillé sur les itérations de fonctions complexes.  \n",
    "Remarque: Il ne disposait pas alors d'ordinateur avec écran graphique pour représenter son travail ;-)  \n",
    "Dans les années 1970, Benoît MANDELBROT c'est intéressé aux travaux de JULIA et a inventé le terme de fractale.  \n",
    "Voir: https://fr.wikipedia.org/wiki/Ensemble_de_Mandelbrot\n",
    "\n",
    "![image](./images/julia.png)"
   ]
  },
  {
   "cell_type": "markdown",
   "metadata": {},
   "source": [
    "<h3 style=\"color: DarkBlue\"> 1/ Rappel: les équations du second degré : </h3>"
   ]
  },
  {
   "cell_type": "markdown",
   "metadata": {},
   "source": [
    "La théorie développée par Julia est basée sur les nombres complexes. Ces derniers trouvent leur justification dans la résolution des équations du second degré :  \n",
    "$a.x² + b.x + c = 0$  \n",
    "La résolution d'une telle équation se fait par le calcul de son discriminant :  \n",
    "$\\Delta = b² - 4.a.c$  \n",
    "Le signe de ce dernier nous renseigne sur les solutions de l'équation:  \n",
    "$\\Delta > 0 \\rightarrow$ l'équation admet deux racines qui sont distinctes:   $x_1 = (-b +\\sqrt \\Delta)/2.a$  et  $x_2 = (-b -\\sqrt \\Delta)/2.a$  \n",
    "$\\Delta = 0 \\rightarrow$ l'équation a pour solution une racine double: $x_1 = -b/2.a$  \n",
    "$\\Delta < 0 \\rightarrow$ l'équation n'a pas de solution dans l'ensemble des réels: $\\mathbb{R}$ ... $\\Rightarrow$ mais peut-être dans un autre ensemble, tel que:$\\mathbb{C}$  "
   ]
  },
  {
   "cell_type": "markdown",
   "metadata": {},
   "source": [
    "En résumé:  \n",
    "![image](./images/Equation2degre.png)\n",
    "  \n",
    "$\\Rightarrow$ Écrire un script permettant à partir d'une équation donnée par l'utilisateur, de préciser si cette équation a des solutions et leurs valeurs."
   ]
  },
  {
   "cell_type": "code",
   "execution_count": null,
   "metadata": {},
   "outputs": [],
   "source": [
    "'''Résolution de l'équation du 2° degré '''\n"
   ]
  },
  {
   "cell_type": "markdown",
   "metadata": {},
   "source": [
    "<h3 style=\"color: DarkBlue\">2/ Au secours Valentin : c'est quoi un nombre complexe ? De quoi on parle, tu nous expliques ?</h3>  \n",
    "\n",
    "Introduction à l'ensemble des complexes:  $\\mathbb{C}$"
   ]
  },
  {
   "cell_type": "code",
   "execution_count": null,
   "metadata": {},
   "outputs": [],
   "source": [
    "'''Les nombres complexes avec Python'''\n",
    "\n",
    "a = int(input('Saisir la partie réelle du nombre complexe z: '))\n",
    "b = int(input('Saisir la partie imaginaire du nombre complexe z: '))\n",
    "z = complex(a,b)\n",
    "print(f'z = {z} \\n')\n",
    "print(f'La partie réelle de z est : {z.real}')\n",
    "print(f'La partie imaginaire de z est : {z.imag}i \\n')\n",
    "print(f'Le module de z est : {abs(z)}')"
   ]
  },
  {
   "cell_type": "markdown",
   "metadata": {},
   "source": [
    "<h3 style=\"color: DarkBlue\"> Ce qu'il faut retenir : </h3>  \n",
    "\n",
    "$\\Rightarrow$ Il existe un ensemble $\\mathbb{C}$ appelé ensemble des complexes, dans lequel l'ensemble des réels $\\mathbb{R}$ est inclus  \n",
    "Un complexe est définit par deux nombres réels :  \n",
    "le premier représente la partie réel du complexe, le deuxième sa partie imaginaire à laquelle est associée à la lettre i (ou j) : $z = -2 + 3i$ ou encore $z = -2 + 3j$  \n",
    "\n",
    "**Propriété de l'imaginaire i** : $~i^2 = -1$ (ou encore : $~j^2 = -1$).  \n",
    "C'est cette dernière propriété qui permet de résoudre le cas $\\Delta < 0$ pour les équations du 2° degré :  \n",
    "![image](./images/DeltaNegatif.png)\n",
    "\n",
    "Puisque d'un nombre complexe est constitué de deux parties (partie réelle et partie imaginaire), il est tentant de lui associé un point du plan de tel sorte que :  \n",
    "- sa partie réelle est portée par l'axe des abscisses (Ox)  \n",
    "- sa partie imaginaire est portée par l'axe des ordonnées (Oy).  \n",
    "\n",
    "Ainsi au nombre complexe $z = a + bi$ correspond le point M de coordonnées a et b : $M(a, b)$.  \n",
    "On dit que : **z est l'affixe du point M**.  \n",
    "\n",
    "Application: Utiliser le logiciel ```Geogebra``` (sélectionner le mode **Tableur** => voir menu *Affichage*) pour représenter dans **le plan complexe** les points d'affixe :  \n",
    "$z_1 = 2 + 3i; ~ z_2 = 1; ~ z_3 = -1i = -i$ (ne pas oublier de cocher dans Géogebra : *Afficher l'objet*).\n",
    "\n",
    "On constate que la distance du point M (affixe de z) à l'origine est donnée par : $\\sqrt{a^2 + b^2}$.  \n",
    "Cette distance représente aussi le module du nombre complexe $~z = a + ib$ :  \n",
    "$|z| = \\sqrt{a^2 + b^2}$\n",
    "\n",
    "![lien](http://www.jaicompris.com/image/playvideo.png)\n"
   ]
  },
  {
   "cell_type": "markdown",
   "metadata": {},
   "source": [
    "<h3 style=\"color: DarkBlue\">3/ Compléter votre algorithme sur la résolution d'une équation du 2° degré :</br>\n",
    " =>  Ajouter le cas où le discriminant est négatif </h3>"
   ]
  },
  {
   "cell_type": "code",
   "execution_count": null,
   "metadata": {},
   "outputs": [],
   "source": [
    "'''Résolution d'une équation du second degré dans l'ensemble des complexes'''"
   ]
  },
  {
   "cell_type": "markdown",
   "metadata": {},
   "source": [
    "<h3 style=\"color: DarkBlue\"> 4/ Les suites de Julia :</h3>  \n",
    "\n",
    "Une **suite mathématique** est une structure composée d'une famille d'éléments, dont chaque élément est obtenu par récurrence à partir de l'élément précédent.  \n",
    "Exemple: $u_{n+1} = u_n * 2 + 3$. On suppose ici que le terme initial est: $u_0 = 1$ :\n",
    "- $u_0 = 1$\n",
    "- $u_1 = 5$\n",
    "- $u_2 = 13$\n",
    "- ...  \n",
    "\n",
    "Le calcul d'un terme n d'une suite, avec n très grand, peut-être long et fastidieux.  \n",
    "$\\Rightarrow$ La technologie numérique et les ordinateurs s'avèrent d'une grande aide pour le calcul des suites.  \n",
    "- Exemple 1 : La suite de Fibonacci, déjà rencontrée en exercice, pour laquelle l'élément $u_n$ dépend de $u_{n-1}$ et $u_{n-2}$  \n",
    "$\\Rightarrow ~f_0 = 0; ~ f_1 = 1  ~~ \\Rightarrow ~ f_n = f_{n-1} + f_{n-2}$  \n",
    "\n",
    "- Exemple 2 : avec le programme du calcul du Lsystem :  \n",
    "$\\Rightarrow$ Voir le code ci-dessous : **mettre en évidence** la ligne permettant le ***calcul de la suite*** des termes du Lsystem: à l'aide d'un commentaire."
   ]
  },
  {
   "cell_type": "code",
   "execution_count": null,
   "metadata": {},
   "outputs": [],
   "source": [
    "def codage_lSystem(chaine: str, ordre: int) -> str:\n",
    "    \"\"\"\n",
    "    Prends en entrée une chaîne initiale (l'axiome) et l'ordre souhaité\n",
    "    Retourne la chaîne obtenue après n applications du L-system\n",
    "    \"\"\"\n",
    "    for n in range(ordre): # Itérer le lSystem jusqu'à l'ordre n\n",
    "        chaine = lSystem_convert(chaine)\n",
    "    return chaine\n",
    "\n",
    "def lSystem_convert(chaine: str) -> str:\n",
    "    \"\"\"\n",
    "    Prends en entrée une chaîne de caractères\n",
    "    Retourne la chaîne obtenue après application des règles du L-System\n",
    "    \"\"\"\n",
    "    rules = {'A': 'AB', 'B': 'A'}  # A compléter : règles\n",
    "    return ''.join([rules[car] for car in chaine ]) \n",
    "\n",
    "axiome = 'A'\n",
    "for k in range (5): # Pour affichage des générations jusqu'à l'ordre n\n",
    "    print(f'ordre {k} => {codage_lSystem(axiome, k)}')"
   ]
  },
  {
   "cell_type": "markdown",
   "metadata": {},
   "source": [
    "<h3 style=\"color: DarkBlue\">5/ Les ensembles de Julia : </h3>"
   ]
  },
  {
   "cell_type": "markdown",
   "metadata": {},
   "source": [
    "Un ensemble de Julia $J(c)$ est défini à partir d'une suite ```complexe```, et consiste à voir si la suite $u_n$ \"s'échappe\" d'un domaine donné, lorsque n augmente.  \n",
    "Exemple : on considère la suite de Julia telle que:  \n",
    "- $u_0 = z$\n",
    "- $u_{n+1} = u_n ^2 + c$  \n",
    "\n",
    "Dans laquelle $~z~$ et $~c~$ sont des nombres complexes : $~~z = a + bi~~$  et  $~~c = p + qi$ , avec :  \n",
    "- $~z~\\Rightarrow$ qui représente la valeur initiale de la suite $u_0$ ;\n",
    "- $~c~\\Rightarrow$ un paramètre (sous forme *complexe*) de la suite de Julia.\n"
   ]
  },
  {
   "cell_type": "code",
   "execution_count": null,
   "metadata": {},
   "outputs": [],
   "source": [
    "def suiteJulia(z: complex, c: complex) -> complex :\n",
    "    \"\"\"\n",
    "    Calcul de la suite de Julia: \n",
    "    En entrée: z et c sont des complexes.\n",
    "    Retourne un complexe.\n",
    "    \"\"\"\n",
    "    u = z\n",
    "    print(f'u0 = {(u.real)} + {(u.imag)} i')\n",
    "    for i in range (20):\n",
    "        u = u **2 + c\n",
    "        print(u)\n",
    "\n",
    "z = complex(0, 0)\n",
    "suiteJulia(z, complex(-0.5, 0.6))"
   ]
  },
  {
   "cell_type": "markdown",
   "metadata": {},
   "source": [
    "<h3 style=\"color: DarkBlue\">6/ Analyse et exploitation des résultats : </h3>\n",
    "<h4 style=\"color: SeaGreen\" class=\"fa fa-book\">61/ Mise en place des points dans le plan complexe : <mark style=\"color: DarkBlue\"> => avec Geogebra : </mark></h4>\n",
    "\n",
    "Examiner les valeurs obtenues en retour à l’exécution du code précédent.  \n",
    "Utiliser le logiciel ```Géogebra``` pour placer directement dans le *plan complexe*, les points obtenus : => tester tout d'abord pour un point, saisie en mode tableur et sans oublier de cocher \"Afficher l'objet\".  \n",
    "***Remarque*** : *Le mode tableur de ```Géogebra``` accepte de charger des points à partir d'un fichier, .dat par exemple (clic droit).*  \n",
    "**Cependant cette fonctionnalité dépend de la version de ```Géogebra``` à votre disposition:** *si votre version ne propose pas cette fonctionnalité, vous pouvez réaliser cette partie avec : Matplotlib*.  \n",
    "**Remarque** : Matplolib est moins adapté, puisqu'il vous faudra vous même mettre en place les points dans le plan complexe, à l'aide de leur partie réelle et partie imaginaire.  \n",
    "\n",
    "Afin de pouvoir charger les points à partir d'un fichier, il faut adapter le code ci-dessus afin d'enregistrer les points dans un fichier ```Julia.dat``` et transformer le type ```complex``` de Python pour l'adapter au type reconnu par ```Géogebra``` :  \n",
    "$~a+bj \\Rightarrow a+bi~$.  \n",
    "A voir : l'exercice sur le tracé d'une spirale dans les activités de révision et aussi [ici](https://python.doctor/page-lire-ecrire-creer-fichier-python \"python.doctor: lire ecrire dans un fichier\")."
   ]
  },
  {
   "cell_type": "code",
   "execution_count": null,
   "metadata": {},
   "outputs": [],
   "source": [
    "\" Saisir ici le code précédent, adapté pour générer un fichier : Julia.dat => et l'importer dans Géogebra \"\n",
    "..."
   ]
  },
  {
   "cell_type": "markdown",
   "metadata": {},
   "source": [
    "<h4 ><mark style= \"color: DarkBlue\"> => avec Matplotlib : </mark></h4>\n",
    "\n",
    "Pour représenter les points avec Matplotlib, il vous faut extraire la partie réel et la partie imaginaire des résultats renvoyé par la fonction ```suiteJulia()```.  \n",
    "**=> Compléter le code suivant :**"
   ]
  },
  {
   "cell_type": "code",
   "execution_count": null,
   "metadata": {},
   "outputs": [],
   "source": [
    "\"Représentation des point dans le plan complexe, avec Matplotlib :\"\n",
    "\n",
    "import matplotlib.pyplot as plt\n",
    "\n",
    "def suiteJulia(u: complex, c: complex) -> complex :\n",
    "    \"\"\"\n",
    "    Calcul de la suite de Julia: \n",
    "    En entrée: z et c sont des complexes.\n",
    "    Retourne un complexe.\n",
    "    \"\"\"\n",
    "    \n",
    "\n",
    "def tracer_les_points(listePoints):\n",
    "    \"Pour tracer les points :\"\n",
    "    plt.figure(figsize=(10,10))\n",
    "    plt.xlim(...)\n",
    "    plt.ylim(...)\n",
    "    plt.scatter(...)\n",
    "    plt.show()\n",
    "    plt.close()\n",
    "\n",
    "u = complex(0, 0)\n",
    "tracer_les_points(suiteJulia(u, complex(-0.5, 0.6)))"
   ]
  },
  {
   "cell_type": "markdown",
   "metadata": {},
   "source": [
    "<h4 style=\"color: SeaGreen\" class=\"fa fa-book\">62/ Le point d'affixe z = 0 + 0i appartient-il à l'ensemble de Julia J(c) ? </h4>\n",
    "<h4><mark style=\"color: DarkBlue\"> => avec Geogebra : </mark></h4>\n",
    "\n",
    "Pour le savoir : tracer dans ```géogebra``` un cercle de centre 0 et de rayon 2. Si les points de la suite sont dans ce cercle, c'est donc que le point z appartient à l'ensemble de Julia (du moins en ce qui concerne les vingts premiers termes de la suite).  \n",
    "\n",
    "Essayer maintenant la suite, pour laquelle: $~z = 0.239 + 0.2i~$ et $~c = -0.5 + 0.6i$  \n",
    "Cette fois vous devriez constater que les dernières valeurs de la suite \"s'échappent\" du cercle.  \n",
    "$\\Rightarrow$ On en déduit que le point M d'affixe $~z = 0.239 + 0.2i~$ n'appartient pas à l'ensemble J(c).  \n",
    "\n",
    "<h4 ><mark style= \"color: DarkBlue\"> => avec Matplotlib : </mark></h4>\n",
    "\n",
    "Reprendre les étapes décrites ci-dessus en les adaptant à Matplotlib **=> compléter le code ci-dessous:**"
   ]
  },
  {
   "cell_type": "code",
   "execution_count": null,
   "metadata": {},
   "outputs": [],
   "source": [
    "\"Savoir si un point z appartient à l'ensemble de Julia J(c) :\"\n",
    "\n",
    "import matplotlib.pyplot as plt\n",
    "\n",
    "def suiteJulia(u: complex, c: complex) -> complex :\n",
    "    \"\"\"\n",
    "    Calcul de la suite de Julia: \n",
    "    En entrée: z et c sont des complexes.\n",
    "    Retourne un complexe.\n",
    "    \"\"\"\n",
    "\n",
    "def tracer_les_points(listePoints):\n",
    "    \"Pour tracer les points :\"\n",
    "    plt.figure(figsize=(10,10))\n",
    "    plt.xlim(...)\n",
    "    plt.ylim(...)\n",
    "    plt.scatter(...)\n",
    "\n",
    "def cercle_limite():\n",
    "    cercle = plt.Circle((0, 0), 2,fill=False)\n",
    "    plt.gcf().gca().add_artist(cercle)  #gca = Get Current Axis\n",
    "    plt.show()\n",
    "    plt.close()\n",
    "\n",
    "u = complex(0, 0)\n",
    "suiteJulia(u, complex(-0.5, 0.6))"
   ]
  },
  {
   "cell_type": "markdown",
   "metadata": {},
   "source": [
    "<h4 style=\"color: SeaGreen\" class=\"fa fa-book\">63/ Savoir si un point appartient à l'ensemble de Julia : </h4>\n",
    "\n",
    "Pour savoir si un point $M$ d'affixe $z$ appartient à l'ensemble de Julia J(c), on peut se limiter à examiner ***le module $u_n$*** de la suite de Julia :  \n",
    "D'après la définition du module d'un nombre complexe (distance du point $M$ d'affixe $z = a + jb$, à l'origine $O$ du plan complexe), regarder si un point de la suite \"s'échappe\" du domaine de Julia, limité par le cercle de centre $0$ et de rayon 2, revient à examiner si **le module du complexe $~u_n~$ calculé est supérieur à 2**.  \n",
    "On peut d'ailleurs démontrer que la suite tend vers l'infini (n'appartient donc pas à J(c)) lorsque justement ses termes $u_n$ sortent du cercle de rayon 2, centré en $O$.  \n",
    "\n",
    "Appliquer cette propriété pour examiner et conclure sur l'évolution de $|u_n|$ pour les valeurs de $~z~$ et du paramètre $~c~$ suivantes :"
   ]
  },
  {
   "cell_type": "code",
   "execution_count": null,
   "metadata": {},
   "outputs": [],
   "source": [
    "'''Modifier le code de la fonction suite de Julia afin d'afficher 20 itérations du module de u => abs(u)\n",
    "Ceci pour les valeurs suivantes de la suite :\n",
    "z = 0 + 0i et c = -0.5 + 0.6i\n",
    "z = 0.239 + 0.2i et c = -0.5 + 0.6i\n",
    "z = 0.25 + 0.2i et c = -0.5 + 0.6i\n",
    "'''\n",
    "..."
   ]
  },
  {
   "cell_type": "markdown",
   "metadata": {},
   "source": [
    "<h3 style=\"color: DarkBlue\">7/ Construction des fractales de Julia : </h3>\n",
    "<h4 style=\"color: SeaGreen\">71/ Calculer l'ensemble de Julia : </h4>\n",
    "\n",
    "**Écrire une fonction ```ensembleJulia```** qui devra itérer 100 fois (ou plus) le calcul de la suite de Julia à partir du point $~M~$ d'affixe $~z~$ et du paramètre $~c~$.  \n",
    "Cette fonction doit renvoyer :  \n",
    "- -1 si le point $M$ appartient à J(c) => dans ce cas toutes les itérations donnent un module inférieur à 2;\n",
    "- l'indice i du tour de boucle qui correspond au premier terme de la suite supérieur à 2.  "
   ]
  },
  {
   "cell_type": "code",
   "execution_count": null,
   "metadata": {},
   "outputs": [],
   "source": [
    "def ensembleJulia (z: complex, c: complex) -> int :\n",
    "    '''Prend une suite de Julia et un point d'affixe z :\n",
    "    Retourne => -1 si le point est dans l'ensemble J(c): le module de tous les termes est < 2\n",
    "    Retourne l'indice i du premier terme ayant un module supérieur à 2\n",
    "    '''"
   ]
  },
  {
   "cell_type": "markdown",
   "metadata": {},
   "source": [
    "<h4 style = 'color: SeaGreen'> 72/ Changement de repère :</h4>\n",
    "\n",
    "Puisqu'il s'agit de tracer une image à l'écran, nous allons faire en sorte que les points $M$ (de la suite de Julia) appartiennent à l'écran de l'ordinateur. Donc le plan complexe sera représenté par l'écran de l'ordinateur.  \n",
    "L'écran est constitué de pixels ayant $x$ et $y$ pour coordonnées. Les dimensions de l'image de la fractale seront comprises entre 0 et 400 pixels pour $x$ et pour $y$.  \n",
    "Les ensembles de Julia intéressant sont pour $z = a + ib$ ayant une partie réelle $a$ et une partie imaginaire $b$ comprises entre -1.25 et +1.25.  \n",
    "Un changement de repère est donc nécessaire pour faire correspondre la partie du plan complexe pertinente (-1.25 -> +1.25) avec les pixels de notre image fractale (0 -> 400).  \n",
    "\n",
    "![image](./images/ChgntRepere.png)\n",
    "\n",
    "\n",
    "**Établir les équations** pour passer de l'image en pixel, à la valeur de $z$, et **écrire** la fonction ```convert``` correspondante :\n"
   ]
  },
  {
   "cell_type": "code",
   "execution_count": null,
   "metadata": {},
   "outputs": [],
   "source": [
    "def convert(x:int, y:int) ->complex :\n",
    "    \"Convertit un point du plan (de l'image) de coordonnées x, y en un nombre complexe z = re + img*j\"\n",
    "    ..."
   ]
  },
  {
   "cell_type": "markdown",
   "metadata": {},
   "source": [
    "<h4 style = 'color: SeaGreen'> 73/ Gestion des couleurs :</h4>\n",
    "\n",
    "A chaque point de notre fractale correspond un affixe $z$ utilisé dans la fonction ```ensembleJulia``` pour savoir si ce point appartient ou pas à J(c).  \n",
    "Nous allons affecter une couleur à ce point, en fonction de sont appartenance ou pas à J(c). Dans ce dernier cas, sa couleur sera fonction du rang du terme pour lequel il s'échappe de J(c).  \n",
    "*Rappel: la couleur d'un pixel est définie par un triplet de nombres, chacun compris entre 0 et 255.*  \n",
    "Principe: si n représente le nombre renvoyé par la fonction ```ensembleJulia```:\n",
    "- si n=-1 le pixel correspondant est noir.\n",
    "- et pour 0< n <100 :  \n",
    "=> la couleur (n, n , n) donnera un dégradé allant de noir à gris moyen (100, 100, 100)  \n",
    "=> la couleur (2n, 0 , 0) donnera un dégradé allant de noir au rouge vif (200, 0, 0)  \n",
    "=> la couleur (0, 0, 3n%256) donnera un premier dégradé allant de noir au bleu vif (0, 0, 255), puis lorsque 3n dépasse 255 on reviend à zéro, jusqu'à atteindre la couleur (0, 0, 44) pour n=100.  \n",
    "\n",
    "Pour commencer nous allons faire un \"mix\" de tout cela, soit par exemple : (4n%256, 2n, 6n%256).  \n",
    "Puis tester aussi la formule suivante: (255-log10(n)x127, 255-log10(n)x127, log10(n)x127).  \n",
    "Et pourquoi pas tester aussi une variante personnelle.  \n",
    "\n",
    "**Écrire une fonction ```colorise```** permettant de fixer une couleur (d'après les formules ci-dessus) à chaque pixel d'un rectangle, en fonction d'une valeur de $n$, avec $-1<n<100$ :  "
   ]
  },
  {
   "cell_type": "code",
   "execution_count": null,
   "metadata": {},
   "outputs": [],
   "source": [
    "from PIL import Image\n",
    "from math import log10\n",
    "\n",
    "def colorise(img, taille):\n",
    "    \"Colorise un carré de pixel, avec des bandes, selon les formules proposées ci-dessus :\"\n",
    "    ...\n",
    "    # Faire appel aux méthodes :\n",
    "    # putpixel(); save() et show()\n",
    "    # Voir : #https://info.blaisepascal.fr/pillow\n",
    "\n",
    "taille = 400\n",
    "img = Image.new('RGB',(taille,taille),(255,255,255))\n",
    "colorise(img, taille)"
   ]
  },
  {
   "cell_type": "markdown",
   "metadata": {},
   "source": [
    "<h4 style = 'color: SeaGreen'> 74/ Association des fonctions précédentes :</h4>\n",
    "\n",
    "Associer les fonctions précédentes pour obtenir le tracé des fractales de Julia.  \n",
    "La fonction ```dessineFractale``` est une évolution de la fonction ```colorise``` qui gère le tracé (position et couleur de chaque pixel) de la fractale de Julia, à l'aide des fonctions : ```convert``` et ```ensembleJulia```.  \n",
    "Tester les fractales pour les valeurs du paramètre $c$ successivement égal à :  \n",
    "- $-0.5+0.6i$\n",
    "- $-0.8-0.18i$\n",
    "- $0-0.8i$\n",
    "- $0.285+0.013i$\n"
   ]
  },
  {
   "cell_type": "code",
   "execution_count": null,
   "metadata": {},
   "outputs": [],
   "source": [
    "from PIL import Image\n",
    "from math import log10\n",
    "\n",
    "#***Déclaration des constantes :***\n",
    "taille = 400\n",
    "reMax = 1.25\n",
    "reMin = -1.25\n",
    "imgMax = 1.25\n",
    "imgMin = -1.25\n",
    "\n",
    "#***Déclaration des fonction locales :***\n",
    "def ensembleJulia (z: complex, c: complex) -> int :\n",
    "    '''Prend une suite de Julia et un point d'affixe z :\n",
    "    Retourne => -1 si le point est dans l'ensemble J(c): le module de tous les termes est < 2\n",
    "    Retourne l'indice i du premier terme ayant un module supérieur à 2\n",
    "    '''\n",
    "\n",
    "def convert(x:int, y:int) ->complex :\n",
    "    \"Convertit un point du plan (de l'image) de coordonnées x, y en un nombre complexe z = re + img*j\"\n",
    "    ...\n",
    "\n",
    "def dessineFractale(img, taille, c):\n",
    "    \"Construit la fractale à partir d'une carré de pixels à colorer en fonction de la valeur de n :\"\n",
    "    ...\n",
    "\n",
    "#*** Programme principal :***\n",
    "\"Tester les fractales pour le paramètre c = -0.5+0.6j; -0.8-0.18j; 0-0.8j; 0.285+0.013j \"\n",
    "img = Image.new('RGB',(taille,taille),(255,255,255))\n",
    "dessineFractale(img, taille, c)"
   ]
  },
  {
   "cell_type": "markdown",
   "metadata": {},
   "source": [
    "<h3 style=\"color: DarkBlue\">8/ Mise en évidence de la structure de la fractale : </h3>\n",
    "\n",
    "Une figure fractale est un objet mathématique qui présente une structure similaire à toutes les échelles.  \n",
    "A partir d'une fractale de niveau 0, vérifier qu'il est possible d'obtenir une fractale de niveau 1, puis 2 et ainsi de suite :  \n",
    "=> Pour cela adapter les constantes du script (taille etc...) pour zoomer de plus en plus.\n"
   ]
  },
  {
   "cell_type": "markdown",
   "metadata": {},
   "source": [
    "<h3 style=\"color: DarkBlue\">9/ Ensemble de Mandelbrot : </h3>\n",
    "\n",
    "Prolongement possible aux ensembles de Julia : $\\Rightarrow$ les ensembles de Mandelbrot.  \n",
    "A voir :\n",
    "- https://fr.wikipedia.org/wiki/Ensemble_de_Mandelbrot\n",
    "- le logiciel Xaos."
   ]
  }
 ],
 "metadata": {
  "kernelspec": {
   "display_name": "Python 3.8.13 ('venv')",
   "language": "python",
   "name": "python3"
  },
  "language_info": {
   "codemirror_mode": {
    "name": "ipython",
    "version": 3
   },
   "file_extension": ".py",
   "mimetype": "text/x-python",
   "name": "python",
   "nbconvert_exporter": "python",
   "pygments_lexer": "ipython3",
   "version": "3.8.15 (default, Oct 12 2022, 19:14:39) \n[GCC 7.5.0]"
  },
  "orig_nbformat": 4,
  "vscode": {
   "interpreter": {
    "hash": "4c98c2cbac01ed97a7e90da0d0c86a794f8025843b0cea5f3ca5d32739ad535e"
   }
  }
 },
 "nbformat": 4,
 "nbformat_minor": 2
}
